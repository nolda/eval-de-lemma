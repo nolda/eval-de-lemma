{
 "cells": [
  {
   "cell_type": "markdown",
   "id": "0f9ae7f9",
   "metadata": {},
   "source": [
    "# Evaluierung Lemmatisierung mit GPT-3"
   ]
  },
  {
   "cell_type": "markdown",
   "id": "3bcc9b77",
   "metadata": {},
   "source": [
    "## Inhalt\n",
    "1. [Analyse der Ausgabeformate](#Ausgabeformate)\n",
    "2. [Einlesen der Ausgaben](#Einlesen)\n",
    "3. [Ergebnisse und Analysen](#Ergebnisse)"
   ]
  },
  {
   "cell_type": "code",
   "execution_count": 9,
   "id": "d46bfb81",
   "metadata": {},
   "outputs": [],
   "source": [
    "import glob\n",
    "import json\n",
    "import numpy as np\n",
    "import pandas as pd\n",
    "\n",
    "import matplotlib.pyplot as plt\n",
    "from matplotlib.pyplot import figure\n",
    "%matplotlib inline"
   ]
  },
  {
   "cell_type": "markdown",
   "id": "de1b04ba",
   "metadata": {},
   "source": [
    "## Ausgabeformate\n",
    "\n",
    "Ausgabeformate auf die Eingabeaufforderung `Lemmatisiere die Tokenliste: ['token1', 'token2', ...]` fallen sehr unterschiedlich aus. Die häufigsten wurden ausgezählt:\n",
    "\n",
    "* `list-notation`: `['lemma']`\n",
    "* `list-notation-without-quot`: `[lemma]`\n",
    "* `:-notation`: `token:lemma\\n`\n",
    "* `--notation`: `token-lemma\\n`\n",
    "* `comma-separated`: `lemma,lemma,lemma`\n",
    "* `whitespace-separated`: `lemma lemma lemma`\n",
    "* `+-separated`: `lemma+lemma+lemma`\n",
    "* `|-separated`: `lemma|lemma|lemma`\n",
    "* `_-separated`: `lemma_lemma_lemma`\n",
    "* `error`: alle übrigen, unter anderem Tuple-Notation"
   ]
  },
  {
   "cell_type": "code",
   "execution_count": 10,
   "id": "947c309a",
   "metadata": {},
   "outputs": [],
   "source": [
    "with open(\"gpt3_outputs/formats.json\", \"r\") as fp:\n",
    "    formats = json.load(fp)"
   ]
  },
  {
   "cell_type": "code",
   "execution_count": 11,
   "id": "f6b9ee2a",
   "metadata": {},
   "outputs": [],
   "source": [
    "df = pd.DataFrame.from_dict(formats, orient='columns')\n",
    "df = df.set_index('dataset')\n",
    "df['error_num'] = df.error.str.len()  # number of errors"
   ]
  },
  {
   "cell_type": "code",
   "execution_count": 12,
   "id": "2f672fb6",
   "metadata": {},
   "outputs": [
    {
     "data": {
      "text/plain": [
       "list-notation                                                              4785\n",
       "list-notation-without-quot                                                  188\n",
       ":-notation                                                                    0\n",
       "--notation                                                                    0\n",
       "comma-separated                                                             272\n",
       "whitespace-separated                                                        675\n",
       "+-separated                                                                   1\n",
       "|-separated                                                                 275\n",
       "_-separated                                                                 545\n",
       "other                                                                        []\n",
       "error                         [[('(', '('), ('Bei', 'bei'), ('den', 'der'), ...\n",
       "error_num                                                                    56\n",
       "dtype: object"
      ]
     },
     "execution_count": 12,
     "metadata": {},
     "output_type": "execute_result"
    }
   ],
   "source": [
    "df.sum()"
   ]
  },
  {
   "cell_type": "markdown",
   "id": "e5920cae",
   "metadata": {},
   "source": [
    "Die meisten Ausgaben sind in Listennotation (4785), weitere sind durch Leerzeichen (675) oder Unterstriche (545) getrennt."
   ]
  },
  {
   "cell_type": "markdown",
   "id": "71b4f726",
   "metadata": {},
   "source": [
    "## Einlesen"
   ]
  },
  {
   "cell_type": "code",
   "execution_count": 27,
   "id": "c3ab4364",
   "metadata": {},
   "outputs": [],
   "source": [
    "with open(\"results-gpt3.json\", \"r\") as fp:\n",
    "    results = json.load(fp)"
   ]
  },
  {
   "cell_type": "code",
   "execution_count": 28,
   "id": "977f2e87",
   "metadata": {},
   "outputs": [],
   "source": [
    "d = pd.DataFrame.from_dict(results, orient='columns')\n",
    "#d = d.set_index('dataset')"
   ]
  },
  {
   "cell_type": "code",
   "execution_count": 32,
   "id": "35703920",
   "metadata": {},
   "outputs": [],
   "source": [
    "acc = []\n",
    "prec = []\n",
    "rec = []\n",
    "for entry in d.metrics:\n",
    "    acc.append(entry['overall']['accuracy'])\n",
    "    prec.append(entry['overall']['adj_precision'])\n",
    "    rec.append(entry['overall']['adj_recall'])\n",
    "d['accuracy'] = acc\n",
    "d['precision'] = prec\n",
    "d['recall'] = rec"
   ]
  },
  {
   "cell_type": "markdown",
   "id": "d88aade2",
   "metadata": {},
   "source": [
    "## Ergebnisse"
   ]
  },
  {
   "cell_type": "code",
   "execution_count": 30,
   "id": "608faa3e",
   "metadata": {},
   "outputs": [
    {
     "data": {
      "text/plain": [
       "<AxesSubplot:xlabel='dataset'>"
      ]
     },
     "execution_count": 30,
     "metadata": {},
     "output_type": "execute_result"
    },
    {
     "data": {
      "image/png": "[encoded data removed]",
      "text/plain": [
       "<Figure size 432x288 with 1 Axes>"
      ]
     },
     "metadata": {
      "needs_background": "light"
     },
     "output_type": "display_data"
    }
   ],
   "source": [
    "d.plot.bar(x='dataset', y='accuracy')"
   ]
  },
  {
   "cell_type": "code",
   "execution_count": 36,
   "id": "e89a8de9",
   "metadata": {},
   "outputs": [
    {
     "data": {
      "text/plain": [
       "<AxesSubplot:>"
      ]
     },
     "execution_count": 36,
     "metadata": {},
     "output_type": "execute_result"
    },
    {
     "data": {
      "image/png": "[encoded data removed]",
      "text/plain": [
       "<Figure size 432x288 with 1 Axes>"
      ]
     },
     "metadata": {
      "needs_background": "light"
     },
     "output_type": "display_data"
    }
   ],
   "source": [
    "d2 = d[['dataset', 'precision', 'recall']]\n",
    "d2.set_index('dataset')\n",
    "d2.plot.bar()"
   ]
  }
 ],
 "metadata": {
  "kernelspec": {
   "display_name": "Python 3 (ipykernel)",
   "language": "python",
   "name": "python3"
  },
  "language_info": {
   "codemirror_mode": {
    "name": "ipython",
    "version": 3
   },
   "file_extension": ".py",
   "mimetype": "text/x-python",
   "name": "python",
   "nbconvert_exporter": "python",
   "pygments_lexer": "ipython3",
   "version": "3.7.11"
  }
 },
 "nbformat": 4,
 "nbformat_minor": 5
}
